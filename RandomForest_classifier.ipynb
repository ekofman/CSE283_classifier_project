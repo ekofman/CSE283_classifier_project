{
 "cells": [
  {
   "cell_type": "code",
   "execution_count": 1,
   "metadata": {},
   "outputs": [],
   "source": [
    "%run Classifier_class.ipynb"
   ]
  },
  {
   "cell_type": "code",
   "execution_count": 2,
   "metadata": {},
   "outputs": [],
   "source": [
    "class RandomForest_Classifier(Classifier):\n",
    "    def run(self, gene_ids):\n",
    "        super().run(gene_ids)\n",
    "        \n",
    "        # Here can go the code to run the SVM classifier itself. For now code it below.\n",
    "        # Output prediction list and true list"
   ]
  },
  {
   "cell_type": "code",
   "execution_count": 4,
   "metadata": {},
   "outputs": [],
   "source": [
    "# Initialize a classifier instance\n",
    "c = RandomForest_Classifier()"
   ]
  },
  {
   "cell_type": "code",
   "execution_count": 51,
   "metadata": {},
   "outputs": [
    {
     "name": "stdout",
     "output_type": "stream",
     "text": [
      "Running classifier with 2 genes...\n",
      "\t67 examles in training set\n",
      "\t29 examples in test set\n",
      "\t0.29850746268656714: fraction of positives in training set\n",
      "\t0.27586206896551724: fraction of positives in test set\n",
      "0.6011904761904762\n"
     ]
    }
   ],
   "source": [
    "from sklearn.ensemble import RandomForestClassifier\n",
    "from sklearn.model_selection import train_test_split\n",
    "from sklearn.metrics import roc_auc_score\n",
    "import numpy as np\n",
    "import pandas as pd\n",
    "\n",
    "# Random seed for reproducibility\n",
    "SEED = 10\n",
    "\n",
    "\n",
    "gene_ids = ['ENSG00000000003', 'ENSG00000000005'] # for example...\n",
    "\n",
    "c.run(gene_ids)\n",
    "\n",
    "def run_override(data, parameters=None):\n",
    "    # Code the SVM classification process here for now, so that you don't have to reinstantiate the classifier \n",
    "    # (block above) every time you make a change. Parameters are optional, no need to include them until fine-tuning\n",
    "    # probably.\n",
    "    \n",
    "    # Extract the labels\n",
    "    labels = np.array(c.subsetted_tpm.index.get_level_values(1))\n",
    "\n",
    "    # Set aside test data\n",
    "    train, test, train_labels, test_labels = train_test_split(data, \n",
    "                                                              labels, \n",
    "                                                              stratify = labels,\n",
    "                                                              test_size = 0.3, \n",
    "                                                              random_state = SEED)\n",
    "\n",
    "    print('\\t{} examles in training set'.format(len(train)))\n",
    "    print('\\t{} examples in test set'.format(len(test)))\n",
    "    \n",
    "    print('\\t{}: fraction of positives in training set'.format(\n",
    "        sum(train.index.get_level_values(1))/len(train.index.get_level_values(1))))\n",
    "    print('\\t{}: fraction of positives in test set'.format(\n",
    "        sum(test.index.get_level_values(1))/len(test.index.get_level_values(1))))\n",
    "\n",
    "    # Make a model\n",
    "    model = RandomForestClassifier(n_estimators=100, \n",
    "                                   bootstrap = True,\n",
    "                                   max_features = 'sqrt')\n",
    "    \n",
    "    # Train model\n",
    "    model.fit(train, train_labels)\n",
    "\n",
    "    # Guesses\n",
    "    guesses = model.predict(test)\n",
    "    \n",
    "    # Probabilities per class\n",
    "    probs = model.predict_proba(test)[:, 1]\n",
    "\n",
    "    # Calculate roc auc\n",
    "    roc_value = roc_auc_score(test_labels, probs)\n",
    "    print(roc_value)\n",
    "    \n",
    "run_override(c.subsetted_tpm)"
   ]
  },
  {
   "cell_type": "code",
   "execution_count": null,
   "metadata": {},
   "outputs": [],
   "source": []
  },
  {
   "cell_type": "code",
   "execution_count": null,
   "metadata": {},
   "outputs": [],
   "source": []
  },
  {
   "cell_type": "code",
   "execution_count": null,
   "metadata": {},
   "outputs": [],
   "source": []
  }
 ],
 "metadata": {
  "kernelspec": {
   "display_name": "Python 3",
   "language": "python",
   "name": "python3"
  },
  "language_info": {
   "codemirror_mode": {
    "name": "ipython",
    "version": 3
   },
   "file_extension": ".py",
   "mimetype": "text/x-python",
   "name": "python",
   "nbconvert_exporter": "python",
   "pygments_lexer": "ipython3",
   "version": "3.7.3"
  }
 },
 "nbformat": 4,
 "nbformat_minor": 2
}
