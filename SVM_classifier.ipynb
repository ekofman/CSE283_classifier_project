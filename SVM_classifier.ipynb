{
 "cells": [
  {
   "cell_type": "code",
   "execution_count": 6,
   "metadata": {},
   "outputs": [],
   "source": [
    "%run Classifier_class.ipynb"
   ]
  },
  {
   "cell_type": "code",
   "execution_count": 7,
   "metadata": {},
   "outputs": [],
   "source": [
    "class SVM_Classifier(Classifier):\n",
    "    def run(self, gene_ids):\n",
    "        super().run(gene_ids)\n",
    "        \n",
    "        # Here can go the code to run the SVM classifier itself. For now code it below.\n",
    "        # Output prediction list and true list"
   ]
  },
  {
   "cell_type": "code",
   "execution_count": 8,
   "metadata": {},
   "outputs": [],
   "source": [
    "# Initialize a classifier instance\n",
    "c = SVM_Classifier()"
   ]
  },
  {
   "cell_type": "code",
   "execution_count": 82,
   "metadata": {},
   "outputs": [
    {
     "name": "stdout",
     "output_type": "stream",
     "text": [
      "Did not find ENSG ID ENSG12, not including...\n",
      "Running classifier with 2 genes...\n"
     ]
    },
    {
     "ename": "NameError",
     "evalue": "name 'cancer_tpm' is not defined",
     "output_type": "error",
     "traceback": [
      "\u001b[0;31m---------------------------------------------------------------------------\u001b[0m",
      "\u001b[0;31mNameError\u001b[0m                                 Traceback (most recent call last)",
      "\u001b[0;32m<ipython-input-82-778744011775>\u001b[0m in \u001b[0;36m<module>\u001b[0;34m\u001b[0m\n\u001b[1;32m     57\u001b[0m     \u001b[0mprint\u001b[0m\u001b[0;34m(\u001b[0m\u001b[0mroc_value\u001b[0m\u001b[0;34m)\u001b[0m\u001b[0;34m\u001b[0m\u001b[0;34m\u001b[0m\u001b[0m\n\u001b[1;32m     58\u001b[0m \u001b[0;34m\u001b[0m\u001b[0m\n\u001b[0;32m---> 59\u001b[0;31m \u001b[0mrun_override\u001b[0m\u001b[0;34m(\u001b[0m\u001b[0mc\u001b[0m\u001b[0;34m.\u001b[0m\u001b[0msubsetted_tpm\u001b[0m\u001b[0;34m)\u001b[0m\u001b[0;34m\u001b[0m\u001b[0;34m\u001b[0m\u001b[0m\n\u001b[0m",
      "\u001b[0;32m<ipython-input-82-778744011775>\u001b[0m in \u001b[0;36mrun_override\u001b[0;34m(data, parameters)\u001b[0m\n\u001b[1;32m     27\u001b[0m \u001b[0;34m\u001b[0m\u001b[0m\n\u001b[1;32m     28\u001b[0m \u001b[0;34m\u001b[0m\u001b[0m\n\u001b[0;32m---> 29\u001b[0;31m     \u001b[0mnon\u001b[0m \u001b[0;34m=\u001b[0m \u001b[0mcancer_tpm\u001b[0m\u001b[0;34m.\u001b[0m\u001b[0mquery\u001b[0m\u001b[0;34m(\u001b[0m\u001b[0;34m'recurrence == 0'\u001b[0m\u001b[0;34m)\u001b[0m\u001b[0;34m\u001b[0m\u001b[0;34m\u001b[0m\u001b[0m\n\u001b[0m\u001b[1;32m     30\u001b[0m     \u001b[0mprint\u001b[0m\u001b[0;34m(\u001b[0m\u001b[0;34m'\\t{} examles in training set'\u001b[0m\u001b[0;34m.\u001b[0m\u001b[0mformat\u001b[0m\u001b[0;34m(\u001b[0m\u001b[0mlen\u001b[0m\u001b[0;34m(\u001b[0m\u001b[0mtrain\u001b[0m\u001b[0;34m)\u001b[0m\u001b[0;34m)\u001b[0m\u001b[0;34m)\u001b[0m\u001b[0;34m\u001b[0m\u001b[0;34m\u001b[0m\u001b[0m\n\u001b[1;32m     31\u001b[0m     \u001b[0mprint\u001b[0m\u001b[0;34m(\u001b[0m\u001b[0;34m'\\t{} examples in test set'\u001b[0m\u001b[0;34m.\u001b[0m\u001b[0mformat\u001b[0m\u001b[0;34m(\u001b[0m\u001b[0mlen\u001b[0m\u001b[0;34m(\u001b[0m\u001b[0mtest\u001b[0m\u001b[0;34m)\u001b[0m\u001b[0;34m)\u001b[0m\u001b[0;34m)\u001b[0m\u001b[0;34m\u001b[0m\u001b[0;34m\u001b[0m\u001b[0m\n",
      "\u001b[0;31mNameError\u001b[0m: name 'cancer_tpm' is not defined"
     ]
    }
   ],
   "source": [
    "from sklearn import svm\n",
    "from sklearn.model_selection import train_test_split\n",
    "from sklearn.metrics import roc_auc_score\n",
    "import numpy as np\n",
    "import pandas as pd\n",
    "\n",
    "# Random seed for reproducibility\n",
    "SEED = 10\n",
    "\n",
    "gene_ids = ['ENSG00000000003', 'ENSG00000000005', 'ENSG12'] # for example...\n",
    "\n",
    "c.run(gene_ids)\n",
    "\n",
    "def run_override(data, parameters=None):\n",
    "    # Code the SVM classification process here for now, so that you don't have to reinstantiate the classifier \n",
    "    # (block above) every time you make a change. Parameters are optional, no need to include them until fine-tuning\n",
    "    # probably.\n",
    "    \n",
    "    # Extract the labels\n",
    "    labels = np.array(c.subsetted_tpm.index.get_level_values(1))\n",
    "    \n",
    "    train, test, train_labels, test_labels = train_test_split(data, \n",
    "                                                              labels, \n",
    "                                                              stratify = labels,\n",
    "                                                              test_size = 0.3, \n",
    "                                                              random_state = SEED)\n",
    "\n",
    "    print('\\t{} examles in training set'.format(len(train)))\n",
    "    print('\\t{} examples in test set'.format(len(test)))\n",
    "    \n",
    "    print('\\t{}: fraction of positives in training set'.format(\n",
    "        sum(train.index.get_level_values(1))/len(train.index.get_level_values(1))))\n",
    "    print('\\t{}: fraction of positives in test set'.format(\n",
    "        sum(test.index.get_level_values(1))/len(test.index.get_level_values(1))))    \n",
    "    \n",
    "    # Make a model\n",
    "    model = svm.SVC(gamma = 'scale', \n",
    "                    C = 100,\n",
    "                    probability = True)\n",
    "    \n",
    "    # Train model\n",
    "    model.fit(train, train_labels)\n",
    "    print(model.score(test, test_labels))\n",
    "    \n",
    "    # Guesses\n",
    "    guesses = model.predict(test)\n",
    "    print(guesses)\n",
    "    \n",
    "    # Probabilities per class\n",
    "    probs = model.predict_proba(test)[:, 1]\n",
    "    print(probs)\n",
    "    \n",
    "    # Calculate roc auc\n",
    "    roc_value = roc_auc_score(test_labels, probs)\n",
    "    print(roc_value)\n",
    "    \n",
    "run_override(c.subsetted_tpm)"
   ]
  },
  {
   "cell_type": "code",
   "execution_count": 61,
   "metadata": {},
   "outputs": [
    {
     "ename": "NameError",
     "evalue": "name 'train' is not defined",
     "output_type": "error",
     "traceback": [
      "\u001b[0;31m---------------------------------------------------------------------------\u001b[0m",
      "\u001b[0;31mNameError\u001b[0m                                 Traceback (most recent call last)",
      "\u001b[0;32m<ipython-input-61-3536571a9bc3>\u001b[0m in \u001b[0;36m<module>\u001b[0;34m\u001b[0m\n\u001b[0;32m----> 1\u001b[0;31m \u001b[0mtrain\u001b[0m\u001b[0;34m\u001b[0m\u001b[0;34m\u001b[0m\u001b[0m\n\u001b[0m",
      "\u001b[0;31mNameError\u001b[0m: name 'train' is not defined"
     ]
    }
   ],
   "source": [
    "train"
   ]
  },
  {
   "cell_type": "code",
   "execution_count": null,
   "metadata": {},
   "outputs": [],
   "source": []
  }
 ],
 "metadata": {
  "kernelspec": {
   "display_name": "Python 3",
   "language": "python",
   "name": "python3"
  },
  "language_info": {
   "codemirror_mode": {
    "name": "ipython",
    "version": 3
   },
   "file_extension": ".py",
   "mimetype": "text/x-python",
   "name": "python",
   "nbconvert_exporter": "python",
   "pygments_lexer": "ipython3",
   "version": "3.7.7"
  }
 },
 "nbformat": 4,
 "nbformat_minor": 2
}
