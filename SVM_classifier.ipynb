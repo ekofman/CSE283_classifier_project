{
 "cells": [
  {
   "cell_type": "code",
   "execution_count": 6,
   "metadata": {},
   "outputs": [],
   "source": [
    "%run Classifier_class.ipynb"
   ]
  },
  {
   "cell_type": "code",
   "execution_count": 7,
   "metadata": {},
   "outputs": [],
   "source": [
    "class SVM_Classifier(Classifier):\n",
    "    def run(self, gene_ids):\n",
    "        super().run(gene_ids)\n",
    "        \n",
    "        # Here can go the code to run the SVM classifier itself. For now code it below.\n",
    "        # Output prediction list and true list"
   ]
  },
  {
   "cell_type": "code",
   "execution_count": 8,
   "metadata": {},
   "outputs": [],
   "source": [
    "# Initialize a classifier instance\n",
    "c = SVM_Classifier()"
   ]
  },
  {
   "cell_type": "code",
   "execution_count": 83,
   "metadata": {},
   "outputs": [
    {
     "name": "stdout",
     "output_type": "stream",
     "text": [
      "Did not find ENSG ID ENSG12, not including...\n",
      "Running classifier with 2 genes...\n",
      "\t67 examles in training set\n",
      "\t29 examples in test set\n",
      "\t0.29850746268656714: fraction of positives in training set\n",
      "\t0.27586206896551724: fraction of positives in test set\n",
      "0.7241379310344828\n",
      "[0 0 0 0 0 0 0 1 0 0 0 0 0 0 1 0 0 0 0 0 0 0 0 0 0 0 0 0 0]\n",
      "[0.28002796 0.28060462 0.27802671 0.27612508 0.28024654 0.28086111\n",
      " 0.31299468 0.55888725 0.27337296 0.29051759 0.3049192  0.2933606\n",
      " 0.27994044 0.27916801 0.38471279 0.28167439 0.27946308 0.2793571\n",
      " 0.28559345 0.27990723 0.2655189  0.30632842 0.28568378 0.28194762\n",
      " 0.28115381 0.28256959 0.33131823 0.27652152 0.28232479]\n",
      "0.7797619047619048\n"
     ]
    }
   ],
   "source": [
    "from sklearn import svm\n",
    "from sklearn.model_selection import train_test_split\n",
    "from sklearn.metrics import roc_auc_score\n",
    "import numpy as np\n",
    "import pandas as pd\n",
    "\n",
    "# Random seed for reproducibility\n",
    "SEED = 10\n",
    "\n",
    "gene_ids = ['ENSG00000000003', 'ENSG00000000005', 'ENSG12'] # for example...\n",
    "\n",
    "c.run(gene_ids)\n",
    "\n",
    "def run_override(data, parameters=None):\n",
    "    # Code the SVM classification process here for now, so that you don't have to reinstantiate the classifier \n",
    "    # (block above) every time you make a change. Parameters are optional, no need to include them until fine-tuning\n",
    "    # probably.\n",
    "    \n",
    "    # Extract the labels\n",
    "    labels = np.array(c.subsetted_tpm.index.get_level_values(1))\n",
    "    \n",
    "    train, test, train_labels, test_labels = train_test_split(data, \n",
    "                                                              labels, \n",
    "                                                              stratify = labels,\n",
    "                                                              test_size = 0.3, \n",
    "                                                              random_state = SEED)\n",
    "\n",
    "    print('\\t{} examles in training set'.format(len(train)))\n",
    "    print('\\t{} examples in test set'.format(len(test)))\n",
    "    \n",
    "    print('\\t{}: fraction of positives in training set'.format(\n",
    "        sum(train.index.get_level_values(1))/len(train.index.get_level_values(1))))\n",
    "    print('\\t{}: fraction of positives in test set'.format(\n",
    "        sum(test.index.get_level_values(1))/len(test.index.get_level_values(1))))    \n",
    "    \n",
    "    # Make a model\n",
    "    model = svm.SVC(gamma = 'scale', \n",
    "                    C = 100,\n",
    "                    probability = True)\n",
    "    \n",
    "    # Train model\n",
    "    model.fit(train, train_labels)\n",
    "    print(model.score(test, test_labels))\n",
    "    \n",
    "    # Guesses\n",
    "    guesses = model.predict(test)\n",
    "    print(guesses)\n",
    "    \n",
    "    # Probabilities per class\n",
    "    probs = model.predict_proba(test)[:, 1]\n",
    "    print(probs)\n",
    "    \n",
    "    # Calculate roc auc\n",
    "    roc_value = roc_auc_score(test_labels, probs)\n",
    "    print(roc_value)\n",
    "    \n",
    "run_override(c.subsetted_tpm)"
   ]
  },
  {
   "cell_type": "code",
   "execution_count": null,
   "metadata": {},
   "outputs": [],
   "source": []
  }
 ],
 "metadata": {
  "kernelspec": {
   "display_name": "Python 3",
   "language": "python",
   "name": "python3"
  },
  "language_info": {
   "codemirror_mode": {
    "name": "ipython",
    "version": 3
   },
   "file_extension": ".py",
   "mimetype": "text/x-python",
   "name": "python",
   "nbconvert_exporter": "python",
   "pygments_lexer": "ipython3",
   "version": "3.7.7"
  }
 },
 "nbformat": 4,
 "nbformat_minor": 2
}
