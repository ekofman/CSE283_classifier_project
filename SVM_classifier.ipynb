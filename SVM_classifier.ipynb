{
 "cells": [
  {
   "cell_type": "code",
   "execution_count": 1,
   "metadata": {},
   "outputs": [],
   "source": [
    "%run Classifier_class.ipynb"
   ]
  },
  {
   "cell_type": "code",
   "execution_count": 6,
   "metadata": {},
   "outputs": [],
   "source": [
    "class SVM_Classifier(Classifier):\n",
    "    def run(self, gene_ids):\n",
    "        super().run(gene_ids)\n",
    "        \n",
    "        # Here can go the code to run the SVM classifier itself\n",
    "        # Output prediction list and true list"
   ]
  },
  {
   "cell_type": "code",
   "execution_count": 7,
   "metadata": {},
   "outputs": [],
   "source": [
    "# Initialize a classifier instance\n",
    "c = SVM_Classifier()"
   ]
  },
  {
   "cell_type": "code",
   "execution_count": 11,
   "metadata": {},
   "outputs": [
    {
     "name": "stdout",
     "output_type": "stream",
     "text": [
      "Did not find ENSG ID ENSG12, not including...\n",
      "Running classifier with 2 genes...\n",
      "fill this\n"
     ]
    }
   ],
   "source": [
    "gene_ids = ['ENSG00000000003', 'ENSG00000000005', 'ENSG12']\n",
    "\n",
    "c.run(gene_ids)\n",
    "\n",
    "def run_override(data, parameters=None):\n",
    "    # Code the SVM classification process here for now, so that you don't have to reinstantiate the classifier \n",
    "    # (block above) every time you make a change. Parameters are optional, no need to include them until fine-tuning\n",
    "    # probably.\n",
    "    print('fill this')\n",
    "    \n",
    "run_override(c.subsetted_tpm)"
   ]
  },
  {
   "cell_type": "code",
   "execution_count": null,
   "metadata": {},
   "outputs": [],
   "source": []
  }
 ],
 "metadata": {
  "kernelspec": {
   "display_name": "Python 3",
   "language": "python",
   "name": "python3"
  },
  "language_info": {
   "codemirror_mode": {
    "name": "ipython",
    "version": 3
   },
   "file_extension": ".py",
   "mimetype": "text/x-python",
   "name": "python",
   "nbconvert_exporter": "python",
   "pygments_lexer": "ipython3",
   "version": "3.7.3"
  }
 },
 "nbformat": 4,
 "nbformat_minor": 2
}
