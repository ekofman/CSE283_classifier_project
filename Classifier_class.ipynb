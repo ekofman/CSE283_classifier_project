{
 "cells": [
  {
   "cell_type": "code",
   "execution_count": 1,
   "metadata": {},
   "outputs": [],
   "source": [
    "# Define a classifier class\n",
    "import pandas as pd\n",
    "class Classifier:\n",
    "    def __init__(self):\n",
    "        # Read the preprocessed TPM data in \n",
    "        self.tpm = pd.read_csv('data/cancer_tpm_multiindexed.tsv', sep='\\t', index_col=[0,1], header=[0,1])\n",
    "        \n",
    "    def view_data(self):\n",
    "        print(self.tpm)\n",
    "        \n",
    "    def __subset_data(self, ensg_ids):\n",
    "        # First check to make sure that the client isn't asking for ENSG IDs that aren't present in the table\n",
    "        ensg_ids_present = {e:1 for e in list(self.tpm.columns.get_level_values(0))}\n",
    "        cleaned_ensg_ids = []\n",
    "        for e in ensg_ids:\n",
    "            if ensg_ids_present.get(e) != 1:\n",
    "                print('Did not find ENSG ID {}, not including...'.format(e))\n",
    "            else:\n",
    "                cleaned_ensg_ids.append(e)\n",
    "        subsetted_data = self.tpm.iloc[:, self.tpm.columns.get_level_values(0).isin(cleaned_ensg_ids)]\n",
    "        print('Running classifier with {} genes...'.format(len(subsetted_data.columns)))\n",
    "        return subsetted_data\n",
    "        \n",
    "    def run(self, ensg_ids, parameters=None):\n",
    "        # ensg_ids should be a list of ENSG IDs, parameters is an optional dictionary containing key-value pairs\n",
    "        # specific to tuning the subtype of classifier.\n",
    "        for e in ensg_ids:\n",
    "            assert(e.startswith('ENSG'))\n",
    "        # Take list of gene IDs, subset the TPM table just to keep those\n",
    "        self.subsetted_tpm = self.__subset_data(ensg_ids)\n",
    "        \n",
    "    def print_AUC(self):\n",
    "        pass\n",
    "    \n",
    "    def graph_ROC_curve(self):\n",
    "        pass\n"
   ]
  },
  {
   "cell_type": "raw",
   "metadata": {},
   "source": [
    "# Initialize a classifier instance\n",
    "c = Classifier()"
   ]
  },
  {
   "cell_type": "raw",
   "metadata": {},
   "source": [
    "# Run boilerplate run method (subset data)\n",
    "gene_ids = ['ENSG00000000003', 'ENSG00000000005', 'ENSG12']\n",
    "\n",
    "c.run(gene_ids)\n",
    "c.subsetted_tpm.head()"
   ]
  },
  {
   "cell_type": "code",
   "execution_count": null,
   "metadata": {},
   "outputs": [],
   "source": []
  }
 ],
 "metadata": {
  "kernelspec": {
   "display_name": "Python 3",
   "language": "python",
   "name": "python3"
  },
  "language_info": {
   "codemirror_mode": {
    "name": "ipython",
    "version": 3
   },
   "file_extension": ".py",
   "mimetype": "text/x-python",
   "name": "python",
   "nbconvert_exporter": "python",
   "pygments_lexer": "ipython3",
   "version": "3.7.3"
  }
 },
 "nbformat": 4,
 "nbformat_minor": 2
}
